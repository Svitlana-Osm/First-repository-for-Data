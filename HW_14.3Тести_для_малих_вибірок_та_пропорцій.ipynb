{
 "cells": [
  {
   "cell_type": "markdown",
   "id": "e152f6d6",
   "metadata": {
    "ExecuteTime": {
     "end_time": "2022-12-10T14:29:24.703416Z",
     "start_time": "2022-12-10T14:29:24.688485Z"
    },
    "id": "e152f6d6"
   },
   "source": [
    "# Тести для малих вибірок та пропорцій\n",
    "\n"
   ]
  },
  {
   "cell_type": "markdown",
   "id": "abdcef5d",
   "metadata": {
    "id": "abdcef5d"
   },
   "source": [
    "**Завдання 1**. E-commerce компанія після редизайну сайту підозрює, що **середній час до покупки (time-to-purchase)** користувачів **збільшився**.\n",
    "Історично середній час від першого заходу на сайт до покупки становив $\\mu_0 = 123.7$ хвилин.\n",
    "\n",
    "Команда аналітиків випадково обрала дані **7 покупців після редизайну**:\n",
    "`128, 135, 121, 142, 126, 151, 123`\n",
    "\n",
    "З допомогою наявних даних зʼясуйте, чи збільшився середній час покупки після редизайну.\n",
    "\n",
    "Для цього виконайте наступні 6 кроків. Правильне виконання кожного з кроків оцінюється в 1 бал.\n",
    "\n",
    "1. Запишіть нульову та альтернативну гіпотези і визначте тип тесту.\n",
    "2. Обчисліть вибіркові статистики: $\\bar x$, $s$, $n$.\n",
    "3. Оберіть тип тесту та виконайте його (знайдіть критичне значення тесту, статистику тесту та р-значення) будь-яким пасуючим способом, щоб перевірити гіпотезу на рівні значущості $\\alpha = 0.10$.\n",
    "4. Прийміть рішення, чи відхиляєте ви гіпотезу $H_0$ використовуючи p-value.\n",
    "5. Напишіть висновок: чи справді редизайн сайту подовжив час до покупки?\n",
    "6. Чи зміниться ваше рішення при зміні рівня значущості на $\\alpha = 0.05$.\n"
   ]
  },
  {
   "cell_type": "code",
   "execution_count": 1,
   "id": "BcS4cm11QYpT",
   "metadata": {
    "id": "BcS4cm11QYpT"
   },
   "outputs": [
    {
     "name": "stdout",
     "output_type": "stream",
     "text": [
      "Вибіркове середнє: 132.29\n",
      "Вибіркове стандартне відхилення: 10.98\n",
      "t-статистика: 2.069\n",
      "Критичне значення (df=6): 1.440\n",
      "p-value: 0.0420\n",
      "Відхиляємо H0: середній час більший за 123.7 на рівні значущості 0.1\n"
     ]
    }
   ],
   "source": [
    "import numpy as np\n",
    "from scipy import stats\n",
    "\n",
    "time = np.array([128, 135, 121, 142, 126, 151, 123])\n",
    "mu0 = 123.7   \n",
    "alpha = 0.1\n",
    "alpha2 = 0.05\n",
    "\n",
    "# Крок 1. Обчислимо вибіркову статистику\n",
    "x_bar = np.mean(time)\n",
    "s = np.std(time, ddof=1)   \n",
    "n = len(time)\n",
    "\n",
    "# Крок 2. t-статистика\n",
    "t_stat = (x_bar - mu0) / (s / np.sqrt(n))\n",
    "\n",
    "# Крок 3. Критичне значення для правостороннього тесту\n",
    "df = n - 1\n",
    "t_crit = stats.t.ppf(1 - alpha, df)\n",
    "\n",
    "# Крок 4. p-value для правостороннього тесту\n",
    "p_value = 1 - stats.t.cdf(t_stat, df)\n",
    "\n",
    "print(f\"Вибіркове середнє: {x_bar:.2f}\")\n",
    "print(f\"Вибіркове стандартне відхилення: {s:.2f}\")\n",
    "print(f\"t-статистика: {t_stat:.3f}\")\n",
    "print(f\"Критичне значення (df={df}): {t_crit:.3f}\")\n",
    "print(f\"p-value: {p_value:.4f}\")\n",
    "\n",
    "# Крок 5. Висновок\n",
    "if t_stat > t_crit:\n",
    "    print(f\"Відхиляємо H0: середній час більший за {mu0} на рівні значущості {alpha}\")\n",
    "else:\n",
    "    print(\"Не відхиляємо H0: доказів недостатньо\")\n",
    "\n"
   ]
  },
  {
   "cell_type": "markdown",
   "id": "27376483-87a4-4702-9f72-5e6e0e42f0d4",
   "metadata": {},
   "source": [
    "# Рівень значущості = 0.05"
   ]
  },
  {
   "cell_type": "code",
   "execution_count": 2,
   "id": "41f7bc31-0f60-4e48-aed0-2392328a97c3",
   "metadata": {},
   "outputs": [
    {
     "name": "stdout",
     "output_type": "stream",
     "text": [
      "Вибіркове середнє: 132.29\n",
      "Вибіркове стандартне відхилення: 10.98\n",
      "t-статистика: 2.069\n",
      "Критичне значення (df=6): 1.943\n",
      "p-value: 0.0420\n",
      "Відхиляємо H0: середній час більший за 123.7 на рівні значущості 0.05\n"
     ]
    }
   ],
   "source": [
    "# Крок 1. Обчислимо вибіркову статистику\n",
    "x_bar = np.mean(time)\n",
    "s = np.std(time, ddof=1)   # стандартне відхилення з n-1\n",
    "n = len(time)\n",
    "\n",
    "# Крок 2. t-статистика\n",
    "t_stat = (x_bar - mu0) / (s / np.sqrt(n))\n",
    "\n",
    "# Крок 3. Критичне значення для правостороннього тесту\n",
    "df = n - 1\n",
    "t_crit = stats.t.ppf(1 - alpha2, df)\n",
    "\n",
    "# Крок 4. p-value для правостороннього тесту\n",
    "p_value = 1 - stats.t.cdf(t_stat, df)\n",
    "\n",
    "print(f\"Вибіркове середнє: {x_bar:.2f}\")\n",
    "print(f\"Вибіркове стандартне відхилення: {s:.2f}\")\n",
    "print(f\"t-статистика: {t_stat:.3f}\")\n",
    "print(f\"Критичне значення (df={df}): {t_crit:.3f}\")\n",
    "print(f\"p-value: {p_value:.4f}\")\n",
    "\n",
    "# Крок 5. Висновок\n",
    "if t_stat > t_crit:\n",
    "    print(f\"Відхиляємо H0: середній час більший за {mu0} на рівні значущості {alpha2}\")\n",
    "else:\n",
    "    print(\"Не відхиляємо H0: доказів недостатньо\")\n"
   ]
  },
  {
   "cell_type": "markdown",
   "id": "e4706269-3ff9-4fa9-a79c-833cefe77d3b",
   "metadata": {},
   "source": [
    "Висновок: Отже редизайн сайту збільшив середній час перед покупкою. \n",
    "При $\\alpha = 0.05$ нам тяжче було відкинути нульову гіпотезу оскільки 2.069 наближено до критичного значпення 1,943. При $\\alpha = 0.1$0 ми бачимо значну різницю між t-статистика 2.069 та критичним значенням 1.440, тому збільшою впевненістю можна відкинути початкову гіпотезу.\n"
   ]
  },
  {
   "cell_type": "markdown",
   "id": "5govLcx8FPSl",
   "metadata": {
    "id": "5govLcx8FPSl"
   },
   "source": [
    "**Завдання 2.**\n",
    "\n",
    "До спеціальної рекламної кампанії **23%** дорослих упізнавали логотип компанії. Після завершення кампанії відділ маркетингу провів опитування: з **1200** випадково відібраних дорослих **311** упізнали логотип.\n",
    "\n",
    "Перевірте на рівні значущості **3%** ($\\alpha=0.03$), чи дають ці дані достатні підстави стверджувати, що **тепер більше ніж 23%** дорослих упізнають логотип компанії. Для розвʼязку використовуйте бібліотеку `statsmodels`.\n",
    "\n",
    "Зробіть висновок, чи зросла впізнаваність логотипу.\n",
    "\n",
    "Додатково, обчисліть довірчий інтревал на заданому рівні значущості і проінтерпретуйте текстом - як він додатково пояснює прийняте нами рішення?"
   ]
  },
  {
   "cell_type": "code",
   "execution_count": 6,
   "id": "rcplRfotId51",
   "metadata": {
    "id": "rcplRfotId51"
   },
   "outputs": [
    {
     "name": "stdout",
     "output_type": "stream",
     "text": [
      "Z-статистика = 2.306\n",
      "p-value = 0.0106\n",
      "97% довірчий інтервал: (0.23171700302179205, 0.28661633031154127)\n",
      "Висновок:\n",
      "p-value = 0.0106 < α = 0.1, тому відхиляємо H₀.\n",
      "Маємо достатньо доказів, щоб стверджувати, що впізнаваність логотипу зросла понад 23%.\n",
      "97% довірчий інтервал: (0.232, 0.287)\n",
      "Це означає, що частка дорослих, які впізнають логотип, лежить між 23.2% та 28.7%\n"
     ]
    }
   ],
   "source": [
    "import statsmodels.api as sm\n",
    "from statsmodels.stats.proportion import proportions_ztest, proportion_confint\n",
    "\n",
    "count = 311   # кількість \"успіхів\"\n",
    "nobs = 1200    # обсяг вибірки\n",
    "p0 = 0.23      # гіпотетична пропорція (H0)\n",
    "\n",
    "stat, pval = proportions_ztest(count, nobs, p0, alternative='larger')\n",
    "confint = proportion_confint(count, nobs, alpha=0.03, method='normal')\n",
    "\n",
    "\n",
    "print(f\"Z-статистика = {stat:.3f}\")\n",
    "print(f\"p-value = {pval:.4f}\")\n",
    "print(f\"97% довірчий інтервал: {confint}\")\n",
    "\n",
    "if pval < alpha:\n",
    "    print(\"Висновок:\") \n",
    "    print(f\"p-value = {pval:.4f} < α = {alpha}, тому відхиляємо H₀.\")\n",
    "    print(\"Маємо достатньо доказів, щоб стверджувати, що впізнаваність логотипу зросла понад 23%.\")\n",
    "    print(f\"97% довірчий інтервал: ({confint[0]:.3f}, {confint[1]:.3f})\")\n",
    "    print(f\"Це означає, що частка дорослих, які впізнають логотип, лежить між {confint[0]*100:.1f}% та {confint[1]*100:.1f}%\")\n",
    "else:\n",
    "    print(\"Висновок:\") \n",
    "    print(f\"p-value = {pval:.4f} ≥ α = {alpha}, тому НЕ відхиляємо H₀.\")\n",
    "    print(\"Достатніх доказів про збільшення впізнаваності логотипу немає.\")\n",
    "    print(f\"97% довірчий інтервал: ({confint[0]:.3f}, {confint[1]:.3f})\")"
   ]
  },
  {
   "cell_type": "code",
   "execution_count": null,
   "id": "2334d15e-0f58-49ed-92c7-9e8aa9071915",
   "metadata": {},
   "outputs": [],
   "source": []
  }
 ],
 "metadata": {
  "colab": {
   "provenance": []
  },
  "hide_input": false,
  "kernelspec": {
   "display_name": "Python [conda env:base] *",
   "language": "python",
   "name": "conda-base-py"
  },
  "language_info": {
   "codemirror_mode": {
    "name": "ipython",
    "version": 3
   },
   "file_extension": ".py",
   "mimetype": "text/x-python",
   "name": "python",
   "nbconvert_exporter": "python",
   "pygments_lexer": "ipython3",
   "version": "3.12.7"
  },
  "toc": {
   "base_numbering": 1,
   "nav_menu": {},
   "number_sections": true,
   "sideBar": true,
   "skip_h1_title": false,
   "title_cell": "Table of Contents",
   "title_sidebar": "Contents",
   "toc_cell": false,
   "toc_position": {},
   "toc_section_display": true,
   "toc_window_display": false
  },
  "varInspector": {
   "cols": {
    "lenName": 16,
    "lenType": 16,
    "lenVar": 40
   },
   "kernels_config": {
    "python": {
     "delete_cmd_postfix": "",
     "delete_cmd_prefix": "del ",
     "library": "var_list.py",
     "varRefreshCmd": "print(var_dic_list())"
    },
    "r": {
     "delete_cmd_postfix": ") ",
     "delete_cmd_prefix": "rm(",
     "library": "var_list.r",
     "varRefreshCmd": "cat(var_dic_list()) "
    }
   },
   "types_to_exclude": [
    "module",
    "function",
    "builtin_function_or_method",
    "instance",
    "_Feature"
   ],
   "window_display": false
  }
 },
 "nbformat": 4,
 "nbformat_minor": 5
}

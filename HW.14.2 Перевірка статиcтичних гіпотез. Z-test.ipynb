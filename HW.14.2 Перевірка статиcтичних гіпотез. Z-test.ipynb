{
 "cells": [
  {
   "cell_type": "markdown",
   "id": "e152f6d6",
   "metadata": {
    "ExecuteTime": {
     "end_time": "2022-12-10T14:29:24.703416Z",
     "start_time": "2022-12-10T14:29:24.688485Z"
    },
    "id": "e152f6d6"
   },
   "source": [
    "#Перевірка статиcтичних гіпотез. Z-test.\n",
    "\n"
   ]
  },
  {
   "cell_type": "markdown",
   "id": "cd404683",
   "metadata": {
    "id": "cd404683"
   },
   "source": [
    "0. Зчитайте дані з `data.csv` у змінну data, яка має тип pandas.DataFrame. Ми будемо далі працювати з цією змінною."
   ]
  },
  {
   "cell_type": "code",
   "execution_count": 1,
   "id": "de7e9b3e-e647-4f0c-bea4-76a2c301e1e4",
   "metadata": {},
   "outputs": [],
   "source": [
    "import numpy as np\n",
    "import pandas as pd\n",
    "from scipy import stats"
   ]
  },
  {
   "cell_type": "code",
   "execution_count": 2,
   "id": "b20b6ba2",
   "metadata": {
    "id": "b20b6ba2"
   },
   "outputs": [],
   "source": [
    "data_path = 'C:\\\\Users\\\\Svitlana\\\\data\\\\Modul 14\\\\data.csv'\n",
    "data = pd.read_csv(data_path)"
   ]
  },
  {
   "cell_type": "code",
   "execution_count": 3,
   "id": "d5ccbe13-f3ce-4ade-9489-ca1bfa4382ce",
   "metadata": {},
   "outputs": [
    {
     "name": "stdout",
     "output_type": "stream",
     "text": [
      "   Unnamed: 0       data\n",
      "0           0  17.499453\n",
      "1           1  19.662399\n",
      "2           2   7.182823\n",
      "3           3  29.841625\n",
      "4           4   9.239386\n"
     ]
    }
   ],
   "source": [
    "print(data.head())"
   ]
  },
  {
   "cell_type": "markdown",
   "id": "3d06cbbf",
   "metadata": {
    "id": "3d06cbbf"
   },
   "source": [
    "Запустіть код нижче. Для коректної робити всіх подальших методів дані мають бути у вигляді одновимірного `numpy.ndarray` вектора та мати розмірність (100,). Така розмірність означає, що дані - одновимірні (колонка), якщо б розмірність була (100, 1), то дані сприймаються методами як двовимірні (таблиця), хоча для нас виглядати можуть так само."
   ]
  },
  {
   "cell_type": "code",
   "execution_count": 4,
   "id": "cce1632b",
   "metadata": {
    "colab": {
     "base_uri": "https://localhost:8080/"
    },
    "executionInfo": {
     "elapsed": 12,
     "status": "ok",
     "timestamp": 1756288318764,
     "user": {
      "displayName": "Hanna Pylieva",
      "userId": "11922761571498418088"
     },
     "user_tz": -120
    },
    "id": "cce1632b",
    "outputId": "2e142439-2a4f-4057-ff9d-e6a4b3d7e955"
   },
   "outputs": [
    {
     "data": {
      "text/plain": [
       "(100,)"
      ]
     },
     "execution_count": 4,
     "metadata": {},
     "output_type": "execute_result"
    }
   ],
   "source": [
    "data = data.data.values\n",
    "data.shape"
   ]
  },
  {
   "cell_type": "markdown",
   "id": "abdcef5d",
   "metadata": {
    "id": "abdcef5d"
   },
   "source": [
    "**Завдання 1**. Зчитані дані - це сума покупок в доларах наших покупців на сайті протягом липня 2025 року.\n",
    "\n",
    "До цього місяця, ми мали продажі в середньому на чек $20.\n",
    "\n",
    "Необхідно зʼясувати, чи вийшло у нас статистично значущо **підвищити** середній чек за липень 2025?\n",
    "\n",
    "Аби дати відповідь - ми проведемо z-test на рівні значущості $\\alpha=0.05$ двома способами. В цьому завданні ми будемо виконувати обчислення \"вручну\" з використанням бібліотек numpy та scipy.stats подібно до прикладу в лекції. Для цього виконайте наступні 7 кроків. Правильне виконання кожного з кроків оцінюється в 1 бал.\n",
    "\n",
    "1. Запишіть параметри задачі у змінні Python:\n",
    "    - `sample_mean` - $\\bar{x}$, середнє значення в вибірці\n",
    "    - `population_mean` - $\\mu_0$, середнє значення в популяції (тобто те, з яким ми порівнюємо середнє вибіркове значення)\n",
    "    - `population_std` - $\\sigma$, вибіркове стандартне відхилення, яке ми вважаємо, що є рівним ст. відх. популяції, адже маємо достатньо велику вибірку.\n",
    "    - `sample_size` - $n$, розмір вибірки\n",
    "    - `alpha` - $\\alpha$ рівень значущості\n",
    "    \n",
    "    **Увага!** Для обчислення стандартного відхилення маємо скористатись функцією `np.std(your_dataframe, ddof=1)`. Чому так - розбираємо в лекції про t-test.\n",
    "\n",
    "\n",
    "2. Визначте для цієї задачі:\n",
    "    - якою є гіпотеза $H_0$\n",
    "    - якою є альтернативна гіпотеза $H_a$\n",
    "    - з яким типом тесту ми маємо справу - лівосторонній, правосторонній чи двосторонній.\n",
    "\n",
    "3. Обчисліть стандартну помилку SE.\n",
    "4. Розрахуйте z-статистику.\n",
    "5. Знайдіть критичне z-значення з допомогою бібліотеки stats.\n",
    "6. Обчисліть p-value з допомогою бібліотеки stats.\n",
    "7. Прийміть рішення, чи відхиляєте ви гіпотезу $H_0$. Для прийняття рішення зробіть і порівняння z-статистики з критичним значенням, і проаналізуйте p-value."
   ]
  },
  {
   "cell_type": "code",
   "execution_count": 5,
   "id": "NX2XezWLdf4t",
   "metadata": {
    "id": "NX2XezWLdf4t"
   },
   "outputs": [],
   "source": [
    "sample_mean = np.mean(data)             # середнє значення вибірки\n",
    "population_mean = 20                     # історичне середнє\n",
    "population_std = np.std(data, ddof=1)   # стандартне відхилення вибірки\n",
    "sample_size = len(data)                  # розмір вибірки\n",
    "alpha = 0.05                            #рівень значущості"
   ]
  },
  {
   "cell_type": "code",
   "execution_count": 6,
   "id": "3a424b5d-3c24-420d-aadc-af135d0c8566",
   "metadata": {},
   "outputs": [
    {
     "name": "stdout",
     "output_type": "stream",
     "text": [
      "SE = 0.625\n",
      "z = -0.995\n",
      "Критичне z-значення = 1.645\n",
      "p-value = 0.840216\n",
      "МЕТОД 1: Порівняння z-статистики з критичним значенням\n",
      "Порівняння: -0.995 ≤ 1.645\n",
      "Висновок: z-статистика НЕ перевищує критичне значення\n",
      "Рішення: НЕ ВІДХИЛЯЄМО H₀\n",
      "МЕТОД 2: Порівняння p-value з рівнем значущості\n",
      "Порівняння: 0.840216 ≥ 0.05\n",
      "Висновок: p-value НЕ менше за рівень значущості\n",
      "Рішення: НЕ ВІДХИЛЯЄМО H₀\n"
     ]
    }
   ],
   "source": [
    "standard_error = population_std / np.sqrt(sample_size)\n",
    "z_statistic = (sample_mean - population_mean) / standard_error\n",
    "z_critical = stats.norm.ppf(1 - alpha)\n",
    "p_value = 1 - stats.norm.cdf(z_statistic)\n",
    "print(f\"SE = {standard_error:.3f}\")\n",
    "print(f\"z = {z_statistic:.3f}\")\n",
    "print(f\"Критичне z-значення = {z_critical:.3f}\")\n",
    "print(f\"p-value = {p_value:.6f}\")\n",
    "\n",
    "print(\"МЕТОД 1: Порівняння z-статистики з критичним значенням\")\n",
    "print(f\"Порівняння: {z_statistic:.3f} {'>' if z_statistic > z_critical else '≤'} {z_critical:.3f}\")\n",
    "\n",
    "if z_statistic > z_critical:\n",
    "    print(\"Висновок: z-статистика ПЕРЕВИЩУЄ критичне значення\")\n",
    "    decision1 = \"ВІДХИЛЯЄМО H₀\"\n",
    "else:\n",
    "    print(\"Висновок: z-статистика НЕ перевищує критичне значення\")\n",
    "    decision1 = \"НЕ ВІДХИЛЯЄМО H₀\"\n",
    "\n",
    "print(f\"Рішення: {decision1}\")\n",
    "\n",
    "print(\"МЕТОД 2: Порівняння p-value з рівнем значущості\")\n",
    "print(f\"Порівняння: {p_value:.6f} {'<' if p_value < alpha else '≥'} {alpha}\")\n",
    "\n",
    "if p_value < alpha:\n",
    "    print(\"Висновок: p-value МЕНШЕ за рівень значущості\")\n",
    "    decision2 = \"ВІДХИЛЯЄМО H₀\"\n",
    "else:\n",
    "    print(\"Висновок: p-value НЕ менше за рівень значущості\")\n",
    "    decision2 = \"НЕ ВІДХИЛЯЄМО H₀\"\n",
    "\n",
    "print(f\"Рішення: {decision2}\")"
   ]
  },
  {
   "cell_type": "markdown",
   "id": "0FOBByRMXkL2",
   "metadata": {
    "id": "0FOBByRMXkL2"
   },
   "source": [
    "**Завдання 2.** Виконайте обчислення z-test з використанням бібліотеки statsmodels.\n",
    "\n",
    "Отримайте z-статистику та р-значення.\n",
    "\n",
    "Виведіть p-значення та зробіть висновок, чи ми маємо достатньо доказів, аби стверджувати, що середній чек зріс.\n",
    "\n",
    "Чи зійшлись значення z-статистику та р-значення в цьому завданні з попередніми обчисленнями?\n",
    "\n",
    "Завдання оцінюється в 3 бали."
   ]
  },
  {
   "cell_type": "code",
   "execution_count": 7,
   "id": "f_Oa0DJhdg6v",
   "metadata": {
    "id": "f_Oa0DJhdg6v"
   },
   "outputs": [
    {
     "name": "stdout",
     "output_type": "stream",
     "text": [
      "Результати z-тесту:\n",
      "  Z-статистика: -0.995\n",
      "  P-value: 0.840216\n",
      "\n",
      "❌ НЕ ВІДХИЛЯЄМО H₀\n",
      "   p-value (0.840216) ≥ α (0.05)\n",
      "   Висновок: Немає достатніх доказів про підвищення середній чек за липень 2025\n"
     ]
    }
   ],
   "source": [
    "from statsmodels.stats import weightstats as stests\n",
    "\n",
    "z_stat_sm, p_val_sm = stests.ztest( data,          \n",
    "                                    value=population_mean,  \n",
    "                                    alternative='larger')   \n",
    "\n",
    "print(f\"Результати z-тесту:\")\n",
    "print(f\"  Z-статистика: {z_stat_sm:.3f}\")\n",
    "print(f\"  P-value: {p_val_sm:.6f}\")\n",
    "print()\n",
    "\n",
    "if p_val_sm < alpha:\n",
    "    print(f\"✅ ВІДХИЛЯЄМО H₀\")\n",
    "    print(f\"   p-value ({p_val_sm:.6f}) < α ({alpha})\")\n",
    "    print(\"   Висновок: Компанії вдалося статистично значущо підвищити середній чек за липень 2025\")\n",
    "else:\n",
    "    print(f\"❌ НЕ ВІДХИЛЯЄМО H₀\")\n",
    "    print(f\"   p-value ({p_val_sm:.6f}) ≥ α ({alpha})\")\n",
    "    print(\"   Висновок: Немає достатніх доказів що  середній чек підвищився за липень 2025\")"
   ]
  },
  {
   "cell_type": "markdown",
   "id": "1b509147-9adb-40a0-8630-87b03a75b912",
   "metadata": {},
   "source": [
    "Висновок: значення z-статистики та р-значення в цьому завданні  співпали із  попередніми обчисленнями. В обох методах отримуємо один і той же висновок,що середній чек за липень 2025 року не підвищився."
   ]
  }
 ],
 "metadata": {
  "colab": {
   "provenance": [
    {
     "file_id": "1hhLlIzp5PDacoSiMEFgkGZK4_Hn19SvN",
     "timestamp": 1756662467494
    },
    {
     "file_id": "1rJneUFaDRAzgRgd-CeQLGlbA1hAZ9STH",
     "timestamp": 1715600337830
    }
   ]
  },
  "hide_input": false,
  "kernelspec": {
   "display_name": "Python [conda env:base] *",
   "language": "python",
   "name": "conda-base-py"
  },
  "language_info": {
   "codemirror_mode": {
    "name": "ipython",
    "version": 3
   },
   "file_extension": ".py",
   "mimetype": "text/x-python",
   "name": "python",
   "nbconvert_exporter": "python",
   "pygments_lexer": "ipython3",
   "version": "3.12.7"
  },
  "toc": {
   "base_numbering": 1,
   "nav_menu": {},
   "number_sections": true,
   "sideBar": true,
   "skip_h1_title": false,
   "title_cell": "Table of Contents",
   "title_sidebar": "Contents",
   "toc_cell": false,
   "toc_position": {},
   "toc_section_display": true,
   "toc_window_display": false
  },
  "varInspector": {
   "cols": {
    "lenName": 16,
    "lenType": 16,
    "lenVar": 40
   },
   "kernels_config": {
    "python": {
     "delete_cmd_postfix": "",
     "delete_cmd_prefix": "del ",
     "library": "var_list.py",
     "varRefreshCmd": "print(var_dic_list())"
    },
    "r": {
     "delete_cmd_postfix": ") ",
     "delete_cmd_prefix": "rm(",
     "library": "var_list.r",
     "varRefreshCmd": "cat(var_dic_list()) "
    }
   },
   "types_to_exclude": [
    "module",
    "function",
    "builtin_function_or_method",
    "instance",
    "_Feature"
   ],
   "window_display": false
  }
 },
 "nbformat": 4,
 "nbformat_minor": 5
}
